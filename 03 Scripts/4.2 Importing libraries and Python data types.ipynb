{
 "cells": [
  {
   "cell_type": "markdown",
   "id": "8fdc5083-d955-4899-920b-f4abe8a51710",
   "metadata": {},
   "source": [
    "# 01. Importing libraries"
   ]
  },
  {
   "cell_type": "code",
   "execution_count": 1,
   "id": "e206f0fb-4e2e-489e-a9b8-1ec9ec330ce9",
   "metadata": {},
   "outputs": [],
   "source": [
    "# Import Libraries\n",
    "import pandas as pd\n",
    "import numpy as np\n",
    "import os"
   ]
  },
  {
   "cell_type": "markdown",
   "id": "dc00476a-bc5a-4cc7-b72b-d76d48d71ff6",
   "metadata": {},
   "source": [
    "# 02. Data Types"
   ]
  },
  {
   "cell_type": "markdown",
   "id": "99b9b1f1-5c13-4ebd-b0e0-41deee57c7ab",
   "metadata": {},
   "source": [
    "Code 3 different ways of reaching a result of 100 by adding or subtracting numeric variables"
   ]
  },
  {
   "cell_type": "code",
   "execution_count": 2,
   "id": "fd13333e-5cd7-4b6e-af69-9c7645e7b243",
   "metadata": {},
   "outputs": [],
   "source": [
    "a = 50"
   ]
  },
  {
   "cell_type": "code",
   "execution_count": 3,
   "id": "cc9cb416-3348-450d-8ce0-85623b121b42",
   "metadata": {},
   "outputs": [],
   "source": [
    "b = 50"
   ]
  },
  {
   "cell_type": "code",
   "execution_count": 4,
   "id": "802f0911-a752-4b87-be81-b7a249f53330",
   "metadata": {},
   "outputs": [
    {
     "data": {
      "text/plain": [
       "100"
      ]
     },
     "execution_count": 4,
     "metadata": {},
     "output_type": "execute_result"
    }
   ],
   "source": [
    "a+b"
   ]
  },
  {
   "cell_type": "code",
   "execution_count": 5,
   "id": "22387c16-87aa-4a76-965a-7ced0fdc1b44",
   "metadata": {},
   "outputs": [],
   "source": [
    "x = 150"
   ]
  },
  {
   "cell_type": "code",
   "execution_count": 6,
   "id": "70eef985-1fdf-4e25-855f-f49b798425ea",
   "metadata": {},
   "outputs": [],
   "source": [
    "y = 50"
   ]
  },
  {
   "cell_type": "code",
   "execution_count": 7,
   "id": "641e428c-5935-4c53-a909-42bc5c304918",
   "metadata": {},
   "outputs": [
    {
     "data": {
      "text/plain": [
       "100"
      ]
     },
     "execution_count": 7,
     "metadata": {},
     "output_type": "execute_result"
    }
   ],
   "source": [
    "x-y"
   ]
  },
  {
   "cell_type": "code",
   "execution_count": 8,
   "id": "e0468219-3eba-4efc-9c51-ee645833be51",
   "metadata": {},
   "outputs": [],
   "source": [
    "p = 200\n",
    "q = 100\n",
    "r = 200"
   ]
  },
  {
   "cell_type": "code",
   "execution_count": 9,
   "id": "b59aa265-a126-47a3-81a5-b1f62d33d962",
   "metadata": {},
   "outputs": [
    {
     "data": {
      "text/plain": [
       "100"
      ]
     },
     "execution_count": 9,
     "metadata": {},
     "output_type": "execute_result"
    }
   ],
   "source": [
    "p+q-r"
   ]
  },
  {
   "cell_type": "markdown",
   "id": "ba651652-80b0-4eb1-b1f5-da501497dacc",
   "metadata": {},
   "source": [
    "Code 2 floating-point variables and divide them by each other."
   ]
  },
  {
   "cell_type": "code",
   "execution_count": 10,
   "id": "c15aca8e-ee73-453c-9a78-c9e779ca7412",
   "metadata": {},
   "outputs": [],
   "source": [
    "a = 10.5\n",
    "b = 2.5"
   ]
  },
  {
   "cell_type": "code",
   "execution_count": 11,
   "id": "e63db5ab-3eca-4a3d-acba-926e79bcf9a5",
   "metadata": {},
   "outputs": [
    {
     "data": {
      "text/plain": [
       "4.2"
      ]
     },
     "execution_count": 11,
     "metadata": {},
     "output_type": "execute_result"
    }
   ],
   "source": [
    "a/b"
   ]
  },
  {
   "cell_type": "markdown",
   "id": "0c454a27-1f8a-41de-991f-5292a3f6145e",
   "metadata": {},
   "source": [
    "Construct a short word made of separate strings "
   ]
  },
  {
   "cell_type": "code",
   "execution_count": 12,
   "id": "c14ad35d-015a-49bd-9b5f-75b6b3d5e31b",
   "metadata": {},
   "outputs": [],
   "source": [
    "x = 'Ju'\n",
    "y = 'pyt'\n",
    "z = 'er'"
   ]
  },
  {
   "cell_type": "code",
   "execution_count": 13,
   "id": "f7eb2eba-fcde-4c3c-8dbd-c07ab3698a23",
   "metadata": {},
   "outputs": [
    {
     "data": {
      "text/plain": [
       "'Jupyter'"
      ]
     },
     "execution_count": 13,
     "metadata": {},
     "output_type": "execute_result"
    }
   ],
   "source": [
    "x+y+z"
   ]
  },
  {
   "cell_type": "markdown",
   "id": "e0917904-9fbe-4ef6-a434-022ada254887",
   "metadata": {},
   "source": [
    "Construct 2 short sentences made of separate strings."
   ]
  },
  {
   "cell_type": "code",
   "execution_count": 14,
   "id": "3d34a427-1001-485e-9416-0796d8bfeb69",
   "metadata": {},
   "outputs": [],
   "source": [
    "a = 'We'\n",
    "b = 'love'\n",
    "c = 'Python'"
   ]
  },
  {
   "cell_type": "code",
   "execution_count": 15,
   "id": "79c2c617-dc93-4e57-b723-ce25b3bd4dec",
   "metadata": {},
   "outputs": [
    {
     "data": {
      "text/plain": [
       "'We love Python'"
      ]
     },
     "execution_count": 15,
     "metadata": {},
     "output_type": "execute_result"
    }
   ],
   "source": [
    "a+' '+b+' '+c"
   ]
  },
  {
   "cell_type": "code",
   "execution_count": 16,
   "id": "dda10e4b-c880-408d-8da5-74746d1ccea8",
   "metadata": {},
   "outputs": [],
   "source": [
    "p = 'Drink'\n",
    "q = 'more'\n",
    "r = 'water'\n",
    "s = '!'"
   ]
  },
  {
   "cell_type": "code",
   "execution_count": 17,
   "id": "53bb27b0-de36-4548-899a-d88585a0dd61",
   "metadata": {},
   "outputs": [
    {
     "data": {
      "text/plain": [
       "'Drink more water!'"
      ]
     },
     "execution_count": 17,
     "metadata": {},
     "output_type": "execute_result"
    }
   ],
   "source": [
    "p+' '+q+' '+r+s"
   ]
  },
  {
   "cell_type": "markdown",
   "id": "796531bd-f76a-4f16-b80a-8c4490d079fe",
   "metadata": {},
   "source": [
    "Bonus Task"
   ]
  },
  {
   "cell_type": "code",
   "execution_count": 18,
   "id": "70a2fd1e-9efa-4ca6-9061-bd8837788275",
   "metadata": {},
   "outputs": [
    {
     "data": {
      "text/plain": [
       "'Hello Hello Hello Hello Hello Hello Hello Hello Hello Hello Hello Hello Hello Hello Hello Hello Hello Hello Hello Hello Hello Hello Hello Hello Hello Hello Hello Hello Hello Hello Hello Hello Hello Hello Hello Hello Hello Hello Hello Hello Hello Hello Hello Hello Hello Hello Hello Hello Hello Hello Hello Hello Hello Hello Hello Hello Hello Hello Hello Hello Hello Hello Hello Hello Hello Hello Hello Hello Hello Hello Hello Hello Hello Hello Hello Hello Hello Hello Hello Hello Hello Hello Hello Hello Hello Hello Hello Hello Hello Hello Hello Hello Hello Hello Hello Hello Hello Hello Hello Hello '"
      ]
     },
     "execution_count": 18,
     "metadata": {},
     "output_type": "execute_result"
    }
   ],
   "source": [
    "'Hello ' * 100"
   ]
  }
 ],
 "metadata": {
  "kernelspec": {
   "display_name": "Python 3 (ipykernel)",
   "language": "python",
   "name": "python3"
  },
  "language_info": {
   "codemirror_mode": {
    "name": "ipython",
    "version": 3
   },
   "file_extension": ".py",
   "mimetype": "text/x-python",
   "name": "python",
   "nbconvert_exporter": "python",
   "pygments_lexer": "ipython3",
   "version": "3.12.4"
  }
 },
 "nbformat": 4,
 "nbformat_minor": 5
}
